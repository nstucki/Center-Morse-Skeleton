{
 "cells": [
  {
   "cell_type": "code",
   "execution_count": 1,
   "metadata": {},
   "outputs": [
    {
     "ename": "ModuleNotFoundError",
     "evalue": "No module named 'torch'",
     "output_type": "error",
     "traceback": [
      "\u001b[0;31m---------------------------------------------------------------------------\u001b[0m",
      "\u001b[0;31mModuleNotFoundError\u001b[0m                       Traceback (most recent call last)",
      "\u001b[0;32m/tmp/ipykernel_79322/2022293017.py\u001b[0m in \u001b[0;36m<module>\u001b[0;34m\u001b[0m\n\u001b[1;32m      1\u001b[0m \u001b[0;32mimport\u001b[0m \u001b[0mimageio\u001b[0m\u001b[0;34m\u001b[0m\u001b[0;34m\u001b[0m\u001b[0m\n\u001b[1;32m      2\u001b[0m \u001b[0;32mimport\u001b[0m \u001b[0mnumpy\u001b[0m \u001b[0;32mas\u001b[0m \u001b[0mnp\u001b[0m\u001b[0;34m\u001b[0m\u001b[0;34m\u001b[0m\u001b[0m\n\u001b[0;32m----> 3\u001b[0;31m \u001b[0;32mimport\u001b[0m \u001b[0mtorch\u001b[0m\u001b[0;34m\u001b[0m\u001b[0;34m\u001b[0m\u001b[0m\n\u001b[0m\u001b[1;32m      4\u001b[0m \u001b[0;32mfrom\u001b[0m \u001b[0mmentenskeletonize\u001b[0m \u001b[0;32mimport\u001b[0m \u001b[0mMentenSkeletonize\u001b[0m\u001b[0;34m\u001b[0m\u001b[0;34m\u001b[0m\u001b[0m\n\u001b[1;32m      5\u001b[0m \u001b[0;32mfrom\u001b[0m \u001b[0mshitskeletonize\u001b[0m \u001b[0;32mimport\u001b[0m \u001b[0mShitSkeletonize\u001b[0m\u001b[0;34m\u001b[0m\u001b[0;34m\u001b[0m\u001b[0m\n",
      "\u001b[0;31mModuleNotFoundError\u001b[0m: No module named 'torch'"
     ]
    }
   ],
   "source": [
    "import imageio\n",
    "import numpy as np\n",
    "import torch\n",
    "from mentenskeletonize import MentenSkeletonize\n",
    "from shitskeletonize import ShitSkeletonize\n",
    "from vitiskeletonize import VitiSkeletonize"
   ]
  },
  {
   "cell_type": "markdown",
   "metadata": {},
   "source": [
    "### Menten Skeletonization"
   ]
  },
  {
   "cell_type": "code",
   "execution_count": null,
   "metadata": {},
   "outputs": [],
   "source": [
    "# Three-dimensional example from the VESSAP dataset\n",
    "img = np.load('data/image_vessap.npy')\n",
    "img = torch.tensor(img, dtype=torch.float32).unsqueeze(0).unsqueeze(0)\n",
    "\n",
    "skeletonization_module = MentenSkeletonize(probabilistic=False, simple_point_detection='Boolean', num_iter=10)\n",
    "skeleton = skeletonization_module(img)\n",
    "\n",
    "skeleton = skeleton.numpy().squeeze()\n",
    "np.save('data/mentenskeleton_vessap.npy', skeleton)"
   ]
  },
  {
   "cell_type": "markdown",
   "metadata": {},
   "source": [
    "### Shit Skeletonization"
   ]
  },
  {
   "cell_type": "code",
   "execution_count": null,
   "metadata": {},
   "outputs": [],
   "source": [
    "# Three-dimensional example from the VESSAP dataset\n",
    "img = np.load('data/image_vessap.npy')\n",
    "img = torch.tensor(img, dtype=torch.float32).unsqueeze(0).unsqueeze(0)\n",
    "\n",
    "skeletonization_module = ShitSkeletonize(num_iter=10)\n",
    "skeleton = skeletonization_module(img)\n",
    "\n",
    "skeleton = skeleton.numpy().squeeze()\n",
    "np.save('data/shitskeleton_vessap.npy', skeleton)"
   ]
  },
  {
   "cell_type": "markdown",
   "metadata": {},
   "source": [
    "### Viti Skeletonization"
   ]
  },
  {
   "cell_type": "code",
   "execution_count": null,
   "metadata": {},
   "outputs": [],
   "source": [
    "# Three-dimensional example from the VESSAP dataset\n",
    "img = np.load('data/image_vessap.npy')\n",
    "img = torch.tensor(img, dtype=torch.float32).unsqueeze(0).unsqueeze(0)\n",
    "\n",
    "skeletonization_module = VitiSkeletonize(num_iter=10)\n",
    "skeleton = skeletonization_module(img)\n",
    "\n",
    "skeleton = skeleton.numpy().squeeze()\n",
    "np.save('data/vitiskeleton_vessap.npy', skeleton)"
   ]
  }
 ],
 "metadata": {
  "kernelspec": {
   "display_name": "Python 3",
   "language": "python",
   "name": "python3"
  },
  "language_info": {
   "codemirror_mode": {
    "name": "ipython",
    "version": 3
   },
   "file_extension": ".py",
   "mimetype": "text/x-python",
   "name": "python",
   "nbconvert_exporter": "python",
   "pygments_lexer": "ipython3",
   "version": "3.8.10"
  }
 },
 "nbformat": 4,
 "nbformat_minor": 2
}
