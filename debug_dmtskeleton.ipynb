{
 "cells": [
  {
   "cell_type": "code",
   "execution_count": 1,
   "metadata": {},
   "outputs": [
    {
     "ename": "ModuleNotFoundError",
     "evalue": "No module named 'build'",
     "output_type": "error",
     "traceback": [
      "\u001b[0;31m---------------------------------------------------------------------------\u001b[0m",
      "\u001b[0;31mModuleNotFoundError\u001b[0m                       Traceback (most recent call last)",
      "Cell \u001b[0;32mIn[1], line 3\u001b[0m\n\u001b[1;32m      1\u001b[0m \u001b[38;5;28;01mimport\u001b[39;00m \u001b[38;5;21;01mnumpy\u001b[39;00m \u001b[38;5;28;01mas\u001b[39;00m \u001b[38;5;21;01mnp\u001b[39;00m\n\u001b[1;32m      2\u001b[0m \u001b[38;5;66;03m#import nrrd\u001b[39;00m\n\u001b[0;32m----> 3\u001b[0m \u001b[38;5;28;01mfrom\u001b[39;00m \u001b[38;5;21;01mbuild\u001b[39;00m \u001b[38;5;28;01mimport\u001b[39;00m morse_complex \u001b[38;5;28;01mas\u001b[39;00m mc\n\u001b[1;32m      4\u001b[0m \u001b[38;5;28;01mfrom\u001b[39;00m \u001b[38;5;21;01mutils\u001b[39;00m\u001b[38;5;21;01m.\u001b[39;00m\u001b[38;5;21;01mfunctions\u001b[39;00m \u001b[38;5;28;01mimport\u001b[39;00m \u001b[38;5;241m*\u001b[39m\n\u001b[1;32m      5\u001b[0m \u001b[38;5;66;03m#from skel2graph import create_skeleton_graph, save_skeleton_graph\u001b[39;00m\n",
      "\u001b[0;31mModuleNotFoundError\u001b[0m: No module named 'build'"
     ]
    }
   ],
   "source": [
    "import numpy as np\n",
    "#import nrrd\n",
    "from build import morse_complex as mc\n",
    "from utils.functions import *\n",
    "#from skel2graph import create_skeleton_graph, save_skeleton_graph\n",
    "from util import patchify_voxel, unpatchify_voxel\n",
    "#import pyvista\n",
    "from skimage.measure import marching_cubes\n",
    "\n",
    "# autoreload from .py files\n",
    "%load_ext autoreload\n",
    "%autoreload 2"
   ]
  },
  {
   "cell_type": "markdown",
   "metadata": {},
   "source": [
    "## Load Image"
   ]
  },
  {
   "cell_type": "code",
   "execution_count": 66,
   "metadata": {},
   "outputs": [],
   "source": [
    "np.random.seed(0)\n",
    "dist_img = np.random.rand(125,125,1)-0.5"
   ]
  },
  {
   "cell_type": "code",
   "execution_count": 3,
   "metadata": {},
   "outputs": [
    {
     "ename": "NameError",
     "evalue": "name 'nrrd' is not defined",
     "output_type": "error",
     "traceback": [
      "\u001b[0;31m---------------------------------------------------------------------------\u001b[0m",
      "\u001b[0;31mNameError\u001b[0m                                 Traceback (most recent call last)",
      "Cell \u001b[0;32mIn[3], line 1\u001b[0m\n\u001b[0;32m----> 1\u001b[0m img, header \u001b[38;5;241m=\u001b[39m \u001b[43mnrrd\u001b[49m\u001b[38;5;241m.\u001b[39mread(\u001b[38;5;124m'\u001b[39m\u001b[38;5;124mdata/001.nrrd\u001b[39m\u001b[38;5;124m'\u001b[39m)\n",
      "\u001b[0;31mNameError\u001b[0m: name 'nrrd' is not defined"
     ]
    }
   ],
   "source": [
    "img, header = nrrd.read('data/001.nrrd')"
   ]
  },
  {
   "cell_type": "code",
   "execution_count": null,
   "metadata": {},
   "outputs": [],
   "source": [
    "dist_img = distance_transform(1-img).astype(np.float32)"
   ]
  },
  {
   "cell_type": "code",
   "execution_count": 67,
   "metadata": {},
   "outputs": [
    {
     "data": {
      "text/plain": [
       "[[3080, 2066, 11, 0], [3080, 2066, 11, 0], [0, 0, 0, 0]]"
      ]
     },
     "execution_count": 67,
     "metadata": {},
     "output_type": "execute_result"
    }
   ],
   "source": [
    "MC = mc.MorseComplex(dist_img[0:200,0:200,0:200])\n",
    "MC.process_lower_stars(0, 2, 2, 2)\n",
    "MC.get_number_of_critical_cells(0)"
   ]
  },
  {
   "cell_type": "code",
   "execution_count": 68,
   "metadata": {},
   "outputs": [],
   "source": [
    "MC.extract_morse_skeleton_below(threshold=0, dimension=3)"
   ]
  },
  {
   "cell_type": "code",
   "execution_count": 69,
   "metadata": {},
   "outputs": [
    {
     "data": {
      "text/plain": [
       "6108"
      ]
     },
     "execution_count": 69,
     "metadata": {},
     "output_type": "execute_result"
    }
   ],
   "source": [
    "pixels_below = MC.get_morse_skeleton_below()\n",
    "pixels_below = set(pixels_below)\n",
    "len(pixels_below)"
   ]
  },
  {
   "cell_type": "code",
   "execution_count": 70,
   "metadata": {},
   "outputs": [],
   "source": [
    "MC.extract_morse_skeleton_parallel_below(threshold=0, dimension=3) #TODO: fix bug, hanging randomly"
   ]
  },
  {
   "cell_type": "code",
   "execution_count": 71,
   "metadata": {},
   "outputs": [
    {
     "data": {
      "text/plain": [
       "6108"
      ]
     },
     "execution_count": 71,
     "metadata": {},
     "output_type": "execute_result"
    }
   ],
   "source": [
    "pixels_below = MC.get_morse_skeleton_below()\n",
    "pixels_below = set(pixels_below)\n",
    "len(pixels_below)"
   ]
  },
  {
   "cell_type": "code",
   "execution_count": 72,
   "metadata": {},
   "outputs": [],
   "source": [
    "MC.extract_morse_skeleton_batchwise_below(threshold=0, dimension=3, batches=200) #TODO: fix bug, hanging randomly"
   ]
  },
  {
   "cell_type": "code",
   "execution_count": 73,
   "metadata": {},
   "outputs": [
    {
     "data": {
      "text/plain": [
       "6108"
      ]
     },
     "execution_count": 73,
     "metadata": {},
     "output_type": "execute_result"
    }
   ],
   "source": [
    "pixels_below = MC.get_morse_skeleton_below()\n",
    "pixels_below = set(pixels_below)\n",
    "len(pixels_below)"
   ]
  },
  {
   "cell_type": "code",
   "execution_count": 77,
   "metadata": {},
   "outputs": [
    {
     "data": {
      "text/plain": [
       "1863"
      ]
     },
     "execution_count": 77,
     "metadata": {},
     "output_type": "execute_result"
    }
   ],
   "source": [
    "MC = mc.MorseComplex(dist_img[0:200,0:200,0:200])\n",
    "MC.process_lower_stars(0, 2, 2, 2)\n",
    "MC.cancel_low_persistence_pairs_below(0,0.5)\n",
    "MC.extract_morse_skeleton_batchwise_below(0,3,128)\n",
    "pixels_below = MC.get_morse_skeleton_below()\n",
    "pixels_below = set(pixels_below)\n",
    "len(pixels_below)"
   ]
  },
  {
   "cell_type": "code",
   "execution_count": 78,
   "metadata": {},
   "outputs": [
    {
     "data": {
      "text/plain": [
       "[[1079, 54, 0, 0], [1079, 54, 0, 0], [0, 0, 0, 0]]"
      ]
     },
     "execution_count": 78,
     "metadata": {},
     "output_type": "execute_result"
    }
   ],
   "source": [
    "MC.get_number_of_critical_cells(0)"
   ]
  },
  {
   "cell_type": "code",
   "execution_count": 79,
   "metadata": {},
   "outputs": [
    {
     "data": {
      "text/plain": [
       "1867"
      ]
     },
     "execution_count": 79,
     "metadata": {},
     "output_type": "execute_result"
    }
   ],
   "source": [
    "MC = mc.MorseComplex(dist_img[0:200,0:200,0:200])\n",
    "MC.process_lower_stars(0, 2, 2, 2)\n",
    "MC.prepare_and_extract_morse_skeleton_below(0,0.5,[1,2,3],128)\n",
    "MC.get_number_of_critical_cells(0)\n",
    "pixels_below = MC.get_morse_skeleton_below()\n",
    "pixels_below = set(pixels_below)\n",
    "len(pixels_below)"
   ]
  },
  {
   "cell_type": "code",
   "execution_count": 80,
   "metadata": {},
   "outputs": [
    {
     "data": {
      "text/plain": [
       "[[1079, 54, 0, 0], [1079, 54, 0, 0], [0, 0, 0, 0]]"
      ]
     },
     "execution_count": 80,
     "metadata": {},
     "output_type": "execute_result"
    }
   ],
   "source": [
    "MC.get_number_of_critical_cells(0)"
   ]
  },
  {
   "cell_type": "markdown",
   "metadata": {},
   "source": [
    "## Params"
   ]
  },
  {
   "cell_type": "code",
   "execution_count": null,
   "metadata": {},
   "outputs": [],
   "source": [
    "threshold = 0\n",
    "epsilon = 0\n",
    "delta = -1"
   ]
  },
  {
   "cell_type": "markdown",
   "metadata": {},
   "source": [
    "## Do patch operation"
   ]
  },
  {
   "cell_type": "code",
   "execution_count": null,
   "metadata": {},
   "outputs": [],
   "source": [
    "patch_size = (64, 64, 64)\n",
    "pad = (1, 1, 1)\n",
    "patch_list, start_ind, current_shape, orig_shape = patchify_voxel(dist_img, patch_size, pad)"
   ]
  },
  {
   "cell_type": "markdown",
   "metadata": {},
   "source": [
    "## Run skeleton on patches"
   ]
  },
  {
   "cell_type": "code",
   "execution_count": null,
   "metadata": {},
   "outputs": [],
   "source": [
    "skel_patch_list = []\n",
    "print('number of patches:', len(patch_list))\n",
    "for i, patch_ in enumerate(patch_list):\n",
    "    # pad each side by 16 pixel with ones\n",
    "    print('processing patch', i)\n",
    "    d = patch_# distance_transform(1-patch_).astype(np.float32)\n",
    "    \n",
    "    MC = mc.MorseComplex(d)\n",
    "    MC.process_lower_stars(2, 2, 2, 0)\n",
    "\n",
    "    critical = MC.get_critical_cells()\n",
    "    print(len(critical[0]), len(critical[1]), len(critical[2]), len(critical[3]))\n",
    "\n",
    "    #################### Cancel pairs ####################\n",
    "    # MC.cancel_pairs_below(threshold=threshold, print=True)\n",
    "\n",
    "    #################### Extract Morse Skeleton ####################\n",
    "    # MC.extract_morse_skeleton_below(threshold=threshold, dimension=3)\n",
    "    # MC.extract_morse_skeleton_parallel_below(threshold=threshold, dimension=3) #TODO: fix bug, hanging randomly\n",
    "    MC.extract_morse_skeleton_batchwise_below(threshold=threshold, dimension=3, batches=64) #TODO: fix bug, hanging randomly\n",
    "\n",
    "    #################### Extract Morse Graph ####################\n",
    "    pixels_below = np.array(MC.get_morse_skeleton_below())\n",
    "    \n",
    "    dmt_skeleton = np.zeros_like(d)\n",
    "    if len(pixels_below.shape) == 2:\n",
    "        dmt_skeleton[pixels_below[:,0], pixels_below[:,1], pixels_below[:,2]] = 1\n",
    "\n",
    "    # crop the patch to the original size\n",
    "    dmt_skeleton = dmt_skeleton[pad[0]:-pad[0], pad[1]:-pad[1], pad[2]:-pad[2]]\n",
    "    skel_patch_list.append(dmt_skeleton)"
   ]
  },
  {
   "cell_type": "markdown",
   "metadata": {},
   "source": [
    "## Reconstruct the whole skeleton from patch"
   ]
  },
  {
   "cell_type": "code",
   "execution_count": null,
   "metadata": {},
   "outputs": [],
   "source": [
    "dmt_skeleton = unpatchify_voxel(skel_patch_list, start_ind, patch_size, current_shape, orig_shape)"
   ]
  },
  {
   "cell_type": "markdown",
   "metadata": {},
   "source": [
    "## Save skeleton as graph"
   ]
  },
  {
   "cell_type": "code",
   "execution_count": null,
   "metadata": {},
   "outputs": [],
   "source": [
    "dmt_skeleton_graph = create_skeleton_graph(dmt_skeleton)\n",
    "save_skeleton_graph(dmt_skeleton_graph, 'images/DMTkeleton_skull.vtp')"
   ]
  },
  {
   "cell_type": "markdown",
   "metadata": {},
   "source": [
    "## Save segmentation as mesh"
   ]
  },
  {
   "cell_type": "code",
   "execution_count": null,
   "metadata": {},
   "outputs": [],
   "source": [
    "mesh_verts, faces, norms, vals = marching_cubes(img>0.0, level=0)\n",
    "mesh_edges = np.concatenate((faces[:,:2], faces[:,1:]), axis=0)\n",
    "\n",
    "mesh_edges = np.concatenate((np.int32(2 * np.ones((mesh_edges.shape[0], 1))), mesh_edges), 1)\n",
    "mesh = pyvista.UnstructuredGrid(mesh_edges.flatten(), np.array([4] * len(mesh_edges)), mesh_verts)\n",
    "mesh_structured = mesh.extract_surface().clean()\n",
    "mesh_structured.save('images/skull_seg.vtp')"
   ]
  }
 ],
 "metadata": {
  "kernelspec": {
   "display_name": "deepro",
   "language": "python",
   "name": "python3"
  },
  "language_info": {
   "codemirror_mode": {
    "name": "ipython",
    "version": 3
   },
   "file_extension": ".py",
   "mimetype": "text/x-python",
   "name": "python",
   "nbconvert_exporter": "python",
   "pygments_lexer": "ipython3",
   "version": "3.9.19"
  }
 },
 "nbformat": 4,
 "nbformat_minor": 2
}
