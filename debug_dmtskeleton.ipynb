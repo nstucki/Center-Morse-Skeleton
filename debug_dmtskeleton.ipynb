{
 "cells": [
  {
   "cell_type": "code",
   "execution_count": 1,
   "metadata": {},
   "outputs": [],
   "source": [
    "import numpy as np\n",
    "import nrrd\n",
    "from build import morse_complex as mc\n",
    "from utils.functions import *\n",
    "#from skel2graph import create_skeleton_graph, save_skeleton_graph\n",
    "from util import patchify_voxel, unpatchify_voxel\n",
    "#import pyvista\n",
    "from skimage.measure import marching_cubes\n",
    "\n",
    "# autoreload from .py files\n",
    "%load_ext autoreload\n",
    "%autoreload 2"
   ]
  },
  {
   "cell_type": "markdown",
   "metadata": {},
   "source": [
    "## Load Image"
   ]
  },
  {
   "cell_type": "code",
   "execution_count": 2,
   "metadata": {},
   "outputs": [],
   "source": [
    "img, header = nrrd.read('data/001.nrrd')"
   ]
  },
  {
   "cell_type": "code",
   "execution_count": 3,
   "metadata": {},
   "outputs": [
    {
     "data": {
      "text/plain": [
       "(512, 512, 222)"
      ]
     },
     "execution_count": 3,
     "metadata": {},
     "output_type": "execute_result"
    }
   ],
   "source": [
    "img.shape"
   ]
  },
  {
   "cell_type": "markdown",
   "metadata": {},
   "source": [
    "## Params"
   ]
  },
  {
   "cell_type": "code",
   "execution_count": 4,
   "metadata": {},
   "outputs": [],
   "source": [
    "threshold = 0\n",
    "epsilon = 0\n",
    "delta = -1"
   ]
  },
  {
   "cell_type": "markdown",
   "metadata": {},
   "source": [
    "## Do patch operation"
   ]
  },
  {
   "cell_type": "code",
   "execution_count": 5,
   "metadata": {},
   "outputs": [],
   "source": [
    "patch_size = (96, 96, 96)\n",
    "pad = (4, 4, 4)\n",
    "dist_img = distance_transform(1-img).astype(np.float32)\n",
    "patch_list, start_ind, current_shape, orig_shape = patchify_voxel(dist_img, patch_size, pad)"
   ]
  },
  {
   "cell_type": "markdown",
   "metadata": {},
   "source": [
    "## Run skeleton on patches"
   ]
  },
  {
   "cell_type": "code",
   "execution_count": 7,
   "metadata": {},
   "outputs": [
    {
     "name": "stdout",
     "output_type": "stream",
     "text": [
      "number of patches: 108\n",
      "processing patch 0\n",
      "processing patch 1\n",
      "processing patch 2\n",
      "processing patch 3\n",
      "processing patch 4\n",
      "processing patch 5\n",
      "processing patch 6\n",
      "processing patch 7\n",
      "processing patch 8\n",
      "processing patch 9\n",
      "processing patch 10\n",
      "processing patch 11\n",
      "processing patch 12\n",
      "processing patch 13\n",
      "processing patch 14\n",
      "processing patch 15\n",
      "processing patch 16\n",
      "processing patch 17\n",
      "processing patch 18\n",
      "processing patch 19\n",
      "processing patch 20\n",
      "processing patch 21\n",
      "processing patch 22\n",
      "processing patch 23\n"
     ]
    }
   ],
   "source": [
    "skel_patch_list = []\n",
    "print('number of patches:', len(patch_list))\n",
    "for i, patch_ in enumerate(patch_list):\n",
    "    # pad each side by 16 pixel with ones\n",
    "    print('processing patch', i)\n",
    "    d = patch_# distance_transform(1-patch_).astype(np.float32)\n",
    "    MC = mc.MorseComplex(d)\n",
    "    MC.process_lower_stars(2, 2, 2, 0)\n",
    "\n",
    "    #################### Cancel pairs ####################\n",
    "    # MC.cancel_pairs_below(threshold=threshold, print=True)\n",
    "\n",
    "    #################### Extract Morse Skeleton ####################\n",
    "    # MC.extract_morse_skeleton_below(threshold=threshold, dimension=3)\n",
    "    # MC.extract_morse_skeleton_parallel_below(threshold=threshold, dimension=3) #TODO: fix bug, hanging randomly\n",
    "    MC.extract_morse_skeleton_batchwise_below(threshold=threshold, dimension=3, batches=64) #TODO: fix bug, hanging randomly\n",
    "\n",
    "    #################### Extract Morse Graph ####################\n",
    "    pixels_below = np.array(MC.get_morse_skeleton_below())\n",
    "    \n",
    "    dmt_skeleton = np.zeros_like(d)\n",
    "    if len(pixels_below.shape) == 2:\n",
    "        dmt_skeleton[pixels_below[:,0], pixels_below[:,1], pixels_below[:,2]] = 1\n",
    "\n",
    "    # crop the patch to the original size\n",
    "    dmt_skeleton = dmt_skeleton[pad[0]:-pad[0], pad[1]:-pad[1], pad[2]:-pad[2]]\n",
    "    skel_patch_list.append(dmt_skeleton)"
   ]
  },
  {
   "cell_type": "markdown",
   "metadata": {},
   "source": [
    "## Reconstruct the whole skeleton from patch"
   ]
  },
  {
   "cell_type": "code",
   "execution_count": 7,
   "metadata": {},
   "outputs": [],
   "source": [
    "dmt_skeleton = unpatchify_voxel(skel_patch_list, start_ind, patch_size, current_shape, orig_shape)"
   ]
  },
  {
   "cell_type": "markdown",
   "metadata": {},
   "source": [
    "## Save skeleton as graph"
   ]
  },
  {
   "cell_type": "code",
   "execution_count": null,
   "metadata": {},
   "outputs": [],
   "source": [
    "dmt_skeleton_graph = create_skeleton_graph(dmt_skeleton)\n",
    "save_skeleton_graph(dmt_skeleton_graph, 'images/DMTkeleton_skull.vtp')"
   ]
  },
  {
   "cell_type": "markdown",
   "metadata": {},
   "source": [
    "## Save segmentation as mesh"
   ]
  },
  {
   "cell_type": "code",
   "execution_count": null,
   "metadata": {},
   "outputs": [],
   "source": [
    "mesh_verts, faces, norms, vals = marching_cubes(img>0.0, level=0)\n",
    "mesh_edges = np.concatenate((faces[:,:2], faces[:,1:]), axis=0)\n",
    "\n",
    "mesh_edges = np.concatenate((np.int32(2 * np.ones((mesh_edges.shape[0], 1))), mesh_edges), 1)\n",
    "mesh = pyvista.UnstructuredGrid(mesh_edges.flatten(), np.array([4] * len(mesh_edges)), mesh_verts)\n",
    "mesh_structured = mesh.extract_surface().clean()\n",
    "mesh_structured.save('images/skull_seg.vtp')"
   ]
  }
 ],
 "metadata": {
  "kernelspec": {
   "display_name": "deepro",
   "language": "python",
   "name": "python3"
  },
  "language_info": {
   "codemirror_mode": {
    "name": "ipython",
    "version": 3
   },
   "file_extension": ".py",
   "mimetype": "text/x-python",
   "name": "python",
   "nbconvert_exporter": "python",
   "pygments_lexer": "ipython3",
   "version": "3.9.19"
  }
 },
 "nbformat": 4,
 "nbformat_minor": 2
}
