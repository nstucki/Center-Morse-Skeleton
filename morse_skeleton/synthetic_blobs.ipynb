{
 "cells": [
  {
   "cell_type": "code",
   "execution_count": null,
   "metadata": {},
   "outputs": [],
   "source": [
    "import numpy as np\n",
    "import plotly.graph_objects as go\n",
    "import os\n",
    "import sys\n",
    "sys.path.append(\"../../Betti-matching-3D/build\")\n",
    "import betti_matching as bm\n",
    "sys.path.append(\"../build\")\n",
    "import morse_complex as mc\n",
    "sys.path.append(\"../utils\")\n",
    "from functions import *"
   ]
  },
  {
   "cell_type": "code",
   "execution_count": null,
   "metadata": {},
   "outputs": [],
   "source": [
    "path_data = \"/Users/nicostucki/Documents/data/vincent/synthetic_blob_data_holes/labels\"\n",
    "files = os.listdir(path_data)"
   ]
  },
  {
   "cell_type": "code",
   "execution_count": null,
   "metadata": {},
   "outputs": [],
   "source": [
    "background = np.load(os.path.join(path_data, files[1]))\n",
    "foreground = 1-background\n",
    "print(foreground.shape)"
   ]
  },
  {
   "cell_type": "code",
   "execution_count": null,
   "metadata": {},
   "outputs": [],
   "source": [
    "example = foreground[20:100,20:100,20:100].astype(float)"
   ]
  },
  {
   "cell_type": "code",
   "execution_count": null,
   "metadata": {},
   "outputs": [],
   "source": [
    "x, y, z = np.where(example == 0)\n",
    "fig = go.Figure(data=[go.Scatter3d(x=x, y=y, z=z, opacity=0.4, mode='markers', marker=dict(size=2))])\n",
    "fig.update_layout(scene=dict(aspectratio=dict(x=1, y=1, z=1), aspectmode='manual'))\n",
    "fig.show()"
   ]
  },
  {
   "cell_type": "code",
   "execution_count": null,
   "metadata": {},
   "outputs": [],
   "source": [
    "MC = mc.MorseComplex(example)\n",
    "MC.process_lower_stars(10, 10, 10)\n",
    "\n",
    "MC.extract_morse_skeleton_below(threshold=1,dimension=3)\n",
    "plot_morse_skeleton(MC, example, 1)\n",
    "MC.get_number_of_critical_cells(1)"
   ]
  },
  {
   "cell_type": "code",
   "execution_count": null,
   "metadata": {},
   "outputs": [],
   "source": [
    "MC = mc.MorseComplex(example)\n",
    "\n",
    "MC.process_lower_stars(2, 2, 2, 0)\n",
    "MC.get_number_of_critical_cells(1)"
   ]
  },
  {
   "cell_type": "code",
   "execution_count": null,
   "metadata": {},
   "outputs": [],
   "source": [
    "MC.extract_morse_skeleton_parallel_below(threshold=1, dimension=3)"
   ]
  },
  {
   "cell_type": "code",
   "execution_count": null,
   "metadata": {},
   "outputs": [],
   "source": [
    "MC.extract_morse_skeleton_double_parallel_below(threshold=1, dimension=3, batches=2)"
   ]
  },
  {
   "cell_type": "code",
   "execution_count": null,
   "metadata": {},
   "outputs": [],
   "source": [
    "plot_morse_skeleton(MC, example, 1)"
   ]
  },
  {
   "cell_type": "code",
   "execution_count": null,
   "metadata": {},
   "outputs": [],
   "source": [
    "MC = mc.MorseComplex(example)\n",
    "MC.process_lower_stars(10, 10, 10)\n",
    "\n",
    "MC.cancel_pairs(1)\n",
    "\n",
    "MC.extract_morse_skeleton_below(threshold=1, dimension=3)\n",
    "#MC.extract_morse_skeleton_above(1)\n",
    "\n",
    "plot_morse_skeleton(MC, example, 1)\n",
    "MC.get_number_of_critical_cells(1)"
   ]
  },
  {
   "cell_type": "code",
   "execution_count": null,
   "metadata": {},
   "outputs": [],
   "source": [
    "MC = mc.MorseComplex(example)\n",
    "MC.process_lower_stars(10, 10, 10)\n",
    "\n",
    "MC.prepare_morse_skeleton_below(1)\n",
    "#MC.prepare_morse_skeleton_above(1)\n",
    "\n",
    "MC.extract_morse_skeleton_below(1)\n",
    "#MC.extract_morse_skeleton_above(1)\n",
    "plot_morse_skeleton(MC, example, 1)\n",
    "MC.get_number_of_critical_cells(1)"
   ]
  },
  {
   "cell_type": "code",
   "execution_count": null,
   "metadata": {},
   "outputs": [],
   "source": [
    "signed_distance = distance_transform(example)"
   ]
  },
  {
   "cell_type": "code",
   "execution_count": null,
   "metadata": {},
   "outputs": [],
   "source": [
    "x, y, z = np.where(signed_distance < 0)\n",
    "fig = go.Figure(data=[go.Scatter3d(x=x, y=y, z=z, opacity=0.2, mode='markers', marker=dict(size=2))])\n",
    "fig.update_layout(scene=dict(aspectratio=dict(x=1, y=1, z=1), aspectmode='manual'))\n",
    "fig.show()"
   ]
  },
  {
   "cell_type": "code",
   "execution_count": null,
   "metadata": {},
   "outputs": [],
   "source": [
    "MC = mc.MorseComplex(signed_distance)\n",
    "MC.process_lower_stars(10, 10, 10)\n",
    "\n",
    "MC.extract_morse_skeleton_below(0)\n",
    "#MC.extract_morse_skeleton_above(0)\n",
    "plot_morse_skeleton(MC, signed_distance, 0)\n",
    "MC.get_number_of_critical_cells(0)"
   ]
  },
  {
   "cell_type": "code",
   "execution_count": null,
   "metadata": {},
   "outputs": [],
   "source": [
    "MC = mc.MorseComplex(signed_distance)\n",
    "MC.process_lower_stars(10, 10, 10)\n",
    "\n",
    "MC.cancel_pairs(0, order_dim_below=\">\", order_value_below=\">\", order_dim_above=\"<\", order_value_above=\"<\")\n",
    "\n",
    "MC.extract_morse_skeleton_below(0)\n",
    "#MC.extract_morse_skeleton_above(0)\n",
    "plot_morse_skeleton(MC, signed_distance, 0)\n",
    "MC.get_number_of_critical_cells(0)"
   ]
  },
  {
   "cell_type": "code",
   "execution_count": null,
   "metadata": {},
   "outputs": [],
   "source": [
    "MC = mc.MorseComplex(signed_distance)\n",
    "MC.process_lower_stars(10, 10, 10)\n",
    "\n",
    "MC.prepare_morse_skeleton_below(0)\n",
    "#MC.prepare_morse_skeleton_above(0)\n",
    "\n",
    "MC.extract_morse_skeleton_below(0)\n",
    "#MC.extract_morse_skeleton_above(0)\n",
    "plot_morse_skeleton(MC, signed_distance, 0)\n",
    "MC.get_number_of_critical_cells(0)"
   ]
  },
  {
   "cell_type": "code",
   "execution_count": null,
   "metadata": {},
   "outputs": [],
   "source": [
    "MC = mc.MorseComplex(signed_distance)\n",
    "MC.process_lower_stars(10, 10, 10)\n",
    "\n",
    "MC.prepare_morse_skeleton_below(0, 1)\n",
    "#MC.prepare_morse_skeleton_above(0, 10)\n",
    "\n",
    "MC.extract_morse_skeleton_below(0)\n",
    "#MC.extract_morse_skeleton_above(0)\n",
    "plot_morse_skeleton(MC, signed_distance, 0)\n",
    "MC.get_number_of_critical_cells(0)"
   ]
  },
  {
   "cell_type": "markdown",
   "metadata": {},
   "source": []
  },
  {
   "cell_type": "code",
   "execution_count": null,
   "metadata": {},
   "outputs": [],
   "source": [
    "example = np.load(os.path.join(path_data, files[0]))\n",
    "example = example[50:80,50:80,50:80]\n",
    "d = distance_transform(1-example)"
   ]
  },
  {
   "cell_type": "code",
   "execution_count": null,
   "metadata": {},
   "outputs": [],
   "source": [
    "MC = mc.MorseComplex(d)\n",
    "MC.process_lower_stars(10, 10, 10)\n",
    "\n",
    "MC.extract_morse_skeleton_below(0)\n",
    "#MC.extract_morse_skeleton_above(0)\n",
    "\n",
    "plot_morse_skeleton(MC, d, 0)\n",
    "MC.get_number_of_critical_cells(0)"
   ]
  },
  {
   "cell_type": "code",
   "execution_count": null,
   "metadata": {},
   "outputs": [],
   "source": [
    "MC = mc.MorseComplex(d)\n",
    "MC.process_lower_stars(10, 10, 10)\n",
    "\n",
    "MC.cancel_pairs(0)\n",
    "\n",
    "MC.extract_morse_skeleton_below(0)\n",
    "#MC.extract_morse_skeleton_above(0)\n",
    "\n",
    "plot_morse_skeleton(MC, d, 0)\n",
    "MC.get_number_of_critical_cells(0)"
   ]
  },
  {
   "cell_type": "code",
   "execution_count": null,
   "metadata": {},
   "outputs": [],
   "source": [
    "MC = mc.MorseComplex(d)\n",
    "MC.process_lower_stars(10, 10, 10)\n",
    "\n",
    "MC.prepare_morse_skeleton_below_test(threshold=0, tolerance=0)\n",
    "#MC.prepare_morse_skeleton_above(0, 10)\n",
    "\n",
    "MC.extract_morse_skeleton_below(0)\n",
    "#MC.extract_morse_skeleton_above(0)\n",
    "\n",
    "plot_morse_skeleton(MC, d, 0)\n",
    "MC.get_number_of_critical_cells(0)"
   ]
  },
  {
   "cell_type": "code",
   "execution_count": null,
   "metadata": {},
   "outputs": [],
   "source": []
  },
  {
   "cell_type": "code",
   "execution_count": null,
   "metadata": {},
   "outputs": [],
   "source": [
    "n = 10\n",
    "threshold = 0\n",
    "\n",
    "example = np.load(os.path.join(path_data, files[n]))\n",
    "example = example[60:90,60:90,60:90]\n",
    "d = distance_transform(1-example)\n",
    "\n",
    "x, y, z = np.where(d < threshold)\n",
    "fig = go.Figure(data=[go.Scatter3d(x=x, y=y, z=z, opacity=0.5, mode='markers', marker=dict(size=2))])\n",
    "fig.update_layout(scene=dict(aspectratio=dict(x=1, y=1, z=1), aspectmode='manual'))\n",
    "fig.show()"
   ]
  },
  {
   "cell_type": "code",
   "execution_count": null,
   "metadata": {},
   "outputs": [],
   "source": [
    "epsilon = 0\n",
    "delta = -1\n",
    "\n",
    "MC = mc.MorseComplex(d)\n",
    "MC.process_lower_stars(10, 10, 10)\n",
    "\n",
    "print(MC.get_number_of_critical_cells(threshold))\n",
    "MC.cancel_low_persistence_pairs_below(0, epsilon)\n",
    "#MC.prepare_morse_skeleton_below(threshold=threshold, epsilon=epsilon, delta=delta)\n",
    "MC.extract_morse_skeleton_below(threshold=threshold)\n",
    "\n",
    "plot_morse_skeleton(MC, d, threshold, plot_critical=False)"
   ]
  },
  {
   "cell_type": "code",
   "execution_count": null,
   "metadata": {},
   "outputs": [],
   "source": []
  }
 ],
 "metadata": {
  "kernelspec": {
   "display_name": "base",
   "language": "python",
   "name": "python3"
  },
  "language_info": {
   "codemirror_mode": {
    "name": "ipython",
    "version": 3
   },
   "file_extension": ".py",
   "mimetype": "text/x-python",
   "name": "python",
   "nbconvert_exporter": "python",
   "pygments_lexer": "ipython3",
   "version": "3.9.12"
  }
 },
 "nbformat": 4,
 "nbformat_minor": 2
}
